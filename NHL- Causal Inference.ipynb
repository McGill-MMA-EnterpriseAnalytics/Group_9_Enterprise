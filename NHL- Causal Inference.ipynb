{
 "cells": [
  {
   "cell_type": "markdown",
   "id": "6a73393c",
   "metadata": {},
   "source": [
    "# Data import"
   ]
  },
  {
   "cell_type": "code",
   "execution_count": 1,
   "id": "2333ca09",
   "metadata": {},
   "outputs": [],
   "source": [
    "import pandas as pd\n",
    "import numpy as np\n",
    "from matplotlib import pyplot as plt\n",
    "import seaborn as sns"
   ]
  },
  {
   "cell_type": "code",
   "execution_count": 6,
   "id": "2bd675df",
   "metadata": {},
   "outputs": [
    {
     "data": {
      "text/html": [
       "<div>\n",
       "<style scoped>\n",
       "    .dataframe tbody tr th:only-of-type {\n",
       "        vertical-align: middle;\n",
       "    }\n",
       "\n",
       "    .dataframe tbody tr th {\n",
       "        vertical-align: top;\n",
       "    }\n",
       "\n",
       "    .dataframe thead th {\n",
       "        text-align: right;\n",
       "    }\n",
       "</style>\n",
       "<table border=\"1\" class=\"dataframe\">\n",
       "  <thead>\n",
       "    <tr style=\"text-align: right;\">\n",
       "      <th></th>\n",
       "      <th>game_id</th>\n",
       "      <th>team_id</th>\n",
       "      <th>HoA</th>\n",
       "      <th>won</th>\n",
       "      <th>settled_in</th>\n",
       "      <th>head_coach</th>\n",
       "      <th>goals</th>\n",
       "      <th>shots</th>\n",
       "      <th>hits</th>\n",
       "      <th>pim</th>\n",
       "      <th>powerPlayOpportunities</th>\n",
       "      <th>powerPlayGoals</th>\n",
       "      <th>faceOffWinPercentage</th>\n",
       "      <th>giveaways</th>\n",
       "      <th>takeaways</th>\n",
       "      <th>blocked</th>\n",
       "      <th>startRinkSide</th>\n",
       "      <th>type</th>\n",
       "      <th>date_time_GMT</th>\n",
       "      <th>home_rink_side_start</th>\n",
       "      <th>venue</th>\n",
       "      <th>venue_time_zone_id</th>\n",
       "      <th>venue_time_zone_offset</th>\n",
       "      <th>venue_time_zone_tz</th>\n",
       "      <th>timeOnIce</th>\n",
       "      <th>evenTimeOnIce</th>\n",
       "      <th>shortHandedTimeOnIce</th>\n",
       "      <th>powerPlayTimeOnIce</th>\n",
       "      <th>goalie_replacement</th>\n",
       "    </tr>\n",
       "  </thead>\n",
       "  <tbody>\n",
       "    <tr>\n",
       "      <th>0</th>\n",
       "      <td>2016020045</td>\n",
       "      <td>4</td>\n",
       "      <td>away</td>\n",
       "      <td>False</td>\n",
       "      <td>REG</td>\n",
       "      <td>Dave Hakstol</td>\n",
       "      <td>4.0</td>\n",
       "      <td>27.0</td>\n",
       "      <td>30.0</td>\n",
       "      <td>6.0</td>\n",
       "      <td>4.0</td>\n",
       "      <td>2.0</td>\n",
       "      <td>50.9</td>\n",
       "      <td>12.0</td>\n",
       "      <td>9.0</td>\n",
       "      <td>11.0</td>\n",
       "      <td>left</td>\n",
       "      <td>R</td>\n",
       "      <td>2016-10-19T00:30:00Z</td>\n",
       "      <td>right</td>\n",
       "      <td>United Center</td>\n",
       "      <td>America/Chicago</td>\n",
       "      <td>-5</td>\n",
       "      <td>CDT</td>\n",
       "      <td>990.833333</td>\n",
       "      <td>841.388889</td>\n",
       "      <td>55.555556</td>\n",
       "      <td>93.888889</td>\n",
       "      <td>Yes</td>\n",
       "    </tr>\n",
       "    <tr>\n",
       "      <th>1</th>\n",
       "      <td>2016020045</td>\n",
       "      <td>16</td>\n",
       "      <td>home</td>\n",
       "      <td>True</td>\n",
       "      <td>REG</td>\n",
       "      <td>Joel Quenneville</td>\n",
       "      <td>7.0</td>\n",
       "      <td>28.0</td>\n",
       "      <td>20.0</td>\n",
       "      <td>8.0</td>\n",
       "      <td>3.0</td>\n",
       "      <td>2.0</td>\n",
       "      <td>49.1</td>\n",
       "      <td>16.0</td>\n",
       "      <td>8.0</td>\n",
       "      <td>9.0</td>\n",
       "      <td>left</td>\n",
       "      <td>R</td>\n",
       "      <td>2016-10-19T00:30:00Z</td>\n",
       "      <td>right</td>\n",
       "      <td>United Center</td>\n",
       "      <td>America/Chicago</td>\n",
       "      <td>-5</td>\n",
       "      <td>CDT</td>\n",
       "      <td>981.333333</td>\n",
       "      <td>836.777778</td>\n",
       "      <td>75.111111</td>\n",
       "      <td>69.444444</td>\n",
       "      <td>No</td>\n",
       "    </tr>\n",
       "    <tr>\n",
       "      <th>2</th>\n",
       "      <td>2017020812</td>\n",
       "      <td>24</td>\n",
       "      <td>away</td>\n",
       "      <td>True</td>\n",
       "      <td>OT</td>\n",
       "      <td>Randy Carlyle</td>\n",
       "      <td>4.0</td>\n",
       "      <td>34.0</td>\n",
       "      <td>16.0</td>\n",
       "      <td>6.0</td>\n",
       "      <td>3.0</td>\n",
       "      <td>1.0</td>\n",
       "      <td>43.8</td>\n",
       "      <td>7.0</td>\n",
       "      <td>4.0</td>\n",
       "      <td>14.0</td>\n",
       "      <td>right</td>\n",
       "      <td>R</td>\n",
       "      <td>2018-02-07T00:00:00Z</td>\n",
       "      <td>left</td>\n",
       "      <td>KeyBank Center</td>\n",
       "      <td>America/New_York</td>\n",
       "      <td>-4</td>\n",
       "      <td>EDT</td>\n",
       "      <td>1002.222222</td>\n",
       "      <td>879.611111</td>\n",
       "      <td>28.444444</td>\n",
       "      <td>94.166667</td>\n",
       "      <td>No</td>\n",
       "    </tr>\n",
       "    <tr>\n",
       "      <th>3</th>\n",
       "      <td>2017020812</td>\n",
       "      <td>7</td>\n",
       "      <td>home</td>\n",
       "      <td>False</td>\n",
       "      <td>OT</td>\n",
       "      <td>Phil Housley</td>\n",
       "      <td>3.0</td>\n",
       "      <td>33.0</td>\n",
       "      <td>17.0</td>\n",
       "      <td>8.0</td>\n",
       "      <td>2.0</td>\n",
       "      <td>1.0</td>\n",
       "      <td>56.2</td>\n",
       "      <td>5.0</td>\n",
       "      <td>6.0</td>\n",
       "      <td>14.0</td>\n",
       "      <td>right</td>\n",
       "      <td>R</td>\n",
       "      <td>2018-02-07T00:00:00Z</td>\n",
       "      <td>left</td>\n",
       "      <td>KeyBank Center</td>\n",
       "      <td>America/New_York</td>\n",
       "      <td>-4</td>\n",
       "      <td>EDT</td>\n",
       "      <td>999.222222</td>\n",
       "      <td>888.333333</td>\n",
       "      <td>75.333333</td>\n",
       "      <td>35.555556</td>\n",
       "      <td>No</td>\n",
       "    </tr>\n",
       "    <tr>\n",
       "      <th>4</th>\n",
       "      <td>2015020314</td>\n",
       "      <td>21</td>\n",
       "      <td>away</td>\n",
       "      <td>True</td>\n",
       "      <td>REG</td>\n",
       "      <td>Patrick Roy</td>\n",
       "      <td>4.0</td>\n",
       "      <td>29.0</td>\n",
       "      <td>17.0</td>\n",
       "      <td>9.0</td>\n",
       "      <td>3.0</td>\n",
       "      <td>1.0</td>\n",
       "      <td>45.7</td>\n",
       "      <td>13.0</td>\n",
       "      <td>5.0</td>\n",
       "      <td>20.0</td>\n",
       "      <td>left</td>\n",
       "      <td>R</td>\n",
       "      <td>2015-11-24T01:00:00Z</td>\n",
       "      <td>right</td>\n",
       "      <td>MTS Centre</td>\n",
       "      <td>America/Winnipeg</td>\n",
       "      <td>-5</td>\n",
       "      <td>CDT</td>\n",
       "      <td>986.666667</td>\n",
       "      <td>844.722222</td>\n",
       "      <td>53.333333</td>\n",
       "      <td>88.611111</td>\n",
       "      <td>No</td>\n",
       "    </tr>\n",
       "  </tbody>\n",
       "</table>\n",
       "</div>"
      ],
      "text/plain": [
       "      game_id  team_id   HoA    won settled_in        head_coach  goals  \\\n",
       "0  2016020045        4  away  False        REG      Dave Hakstol    4.0   \n",
       "1  2016020045       16  home   True        REG  Joel Quenneville    7.0   \n",
       "2  2017020812       24  away   True         OT     Randy Carlyle    4.0   \n",
       "3  2017020812        7  home  False         OT      Phil Housley    3.0   \n",
       "4  2015020314       21  away   True        REG       Patrick Roy    4.0   \n",
       "\n",
       "   shots  hits  pim  powerPlayOpportunities  powerPlayGoals  \\\n",
       "0   27.0  30.0  6.0                     4.0             2.0   \n",
       "1   28.0  20.0  8.0                     3.0             2.0   \n",
       "2   34.0  16.0  6.0                     3.0             1.0   \n",
       "3   33.0  17.0  8.0                     2.0             1.0   \n",
       "4   29.0  17.0  9.0                     3.0             1.0   \n",
       "\n",
       "   faceOffWinPercentage  giveaways  takeaways  blocked startRinkSide type  \\\n",
       "0                  50.9       12.0        9.0     11.0          left    R   \n",
       "1                  49.1       16.0        8.0      9.0          left    R   \n",
       "2                  43.8        7.0        4.0     14.0         right    R   \n",
       "3                  56.2        5.0        6.0     14.0         right    R   \n",
       "4                  45.7       13.0        5.0     20.0          left    R   \n",
       "\n",
       "          date_time_GMT home_rink_side_start           venue  \\\n",
       "0  2016-10-19T00:30:00Z                right   United Center   \n",
       "1  2016-10-19T00:30:00Z                right   United Center   \n",
       "2  2018-02-07T00:00:00Z                 left  KeyBank Center   \n",
       "3  2018-02-07T00:00:00Z                 left  KeyBank Center   \n",
       "4  2015-11-24T01:00:00Z                right      MTS Centre   \n",
       "\n",
       "  venue_time_zone_id  venue_time_zone_offset venue_time_zone_tz    timeOnIce  \\\n",
       "0    America/Chicago                      -5                CDT   990.833333   \n",
       "1    America/Chicago                      -5                CDT   981.333333   \n",
       "2   America/New_York                      -4                EDT  1002.222222   \n",
       "3   America/New_York                      -4                EDT   999.222222   \n",
       "4   America/Winnipeg                      -5                CDT   986.666667   \n",
       "\n",
       "   evenTimeOnIce  shortHandedTimeOnIce  powerPlayTimeOnIce goalie_replacement  \n",
       "0     841.388889             55.555556           93.888889                Yes  \n",
       "1     836.777778             75.111111           69.444444                 No  \n",
       "2     879.611111             28.444444           94.166667                 No  \n",
       "3     888.333333             75.333333           35.555556                 No  \n",
       "4     844.722222             53.333333           88.611111                 No  "
      ]
     },
     "execution_count": 6,
     "metadata": {},
     "output_type": "execute_result"
    }
   ],
   "source": [
    "pd.set_option('display.max_columns', None) # Show all the columns\n",
    "df = pd.read_csv('combined_data.csv')\n",
    "df = df.drop(columns='Unnamed: 0')\n",
    "df.head()"
   ]
  },
  {
   "cell_type": "code",
   "execution_count": null,
   "id": "a595df64",
   "metadata": {},
   "outputs": [],
   "source": []
  },
  {
   "cell_type": "markdown",
   "id": "4d8b633f",
   "metadata": {},
   "source": [
    "# CausalML\n",
    "\n",
    "## Import packages"
   ]
  },
  {
   "cell_type": "code",
   "execution_count": 1,
   "id": "a5021208",
   "metadata": {},
   "outputs": [
    {
     "name": "stderr",
     "output_type": "stream",
     "text": [
      "sklearn.tree._tree.TreeBuilder size changed, may indicate binary incompatibility. Expected 72 from C header, got 80 from PyObject\n"
     ]
    }
   ],
   "source": [
    "import scipy.stats\n",
    "from sklearn.ensemble import RandomForestRegressor, GradientBoostingRegressor\n",
    "from sklearn.linear_model import LinearRegression\n",
    "from sklearn.tree import DecisionTreeRegressor\n",
    "\n",
    "from xgboost import XGBRegressor\n",
    "from lightgbm import LGBMRegressor\n",
    "\n",
    "from causalml.inference.meta import BaseSRegressor, BaseTRegressor, BaseXRegressor, BaseRRegressor\n",
    "from causalml.inference.tree import UpliftTreeClassifier, UpliftRandomForestClassifier\n",
    "\n",
    "\n",
    "from causalml.inference.meta import LRSRegressor\n",
    "from causalml.inference.meta import XGBTRegressor\n",
    "from causalml.inference.meta import BaseSRegressor\n",
    "\n",
    "import shap\n",
    "import matplotlib.pyplot as plt\n",
    "\n",
    "import time\n",
    "from causalml.metrics import *\n",
    "from sklearn.model_selection import train_test_split\n",
    "\n",
    "%load_ext autoreload\n",
    "%autoreload 2\n",
    "%matplotlib inline"
   ]
  },
  {
   "cell_type": "code",
   "execution_count": 2,
   "id": "33390af8",
   "metadata": {},
   "outputs": [
    {
     "name": "stdout",
     "output_type": "stream",
     "text": [
      "0.12.0\n"
     ]
    }
   ],
   "source": [
    "import causalml\n",
    "print(causalml.__version__)"
   ]
  },
  {
   "cell_type": "code",
   "execution_count": 3,
   "id": "27c172ff",
   "metadata": {},
   "outputs": [
    {
     "name": "stdout",
     "output_type": "stream",
     "text": [
      "0.24.2\n"
     ]
    }
   ],
   "source": [
    "# check scikit-learn version\n",
    "import sklearn\n",
    "print(sklearn.__version__)"
   ]
  },
  {
   "cell_type": "markdown",
   "id": "867739e1",
   "metadata": {},
   "source": [
    "## Identify treatment, x, y variables"
   ]
  },
  {
   "cell_type": "code",
   "execution_count": null,
   "id": "3721a3ce",
   "metadata": {},
   "outputs": [],
   "source": [
    "# Treatment feature\n"
   ]
  },
  {
   "cell_type": "code",
   "execution_count": null,
   "id": "1f8da1f3",
   "metadata": {},
   "outputs": [],
   "source": [
    "# Target variable (y)\n"
   ]
  },
  {
   "cell_type": "code",
   "execution_count": null,
   "id": "59c05c21",
   "metadata": {},
   "outputs": [],
   "source": [
    "# Control variables (X)\n"
   ]
  },
  {
   "cell_type": "code",
   "execution_count": null,
   "id": "605da83e",
   "metadata": {},
   "outputs": [],
   "source": [
    "# w_multi\n",
    "w_multi = np.array(['treatment_A' if x==1 else 'control' for x in treatment])"
   ]
  },
  {
   "cell_type": "code",
   "execution_count": null,
   "id": "1fc2bd5b",
   "metadata": {},
   "outputs": [],
   "source": [
    "# Propensity calculation\n"
   ]
  },
  {
   "cell_type": "code",
   "execution_count": null,
   "id": "8057054a",
   "metadata": {},
   "outputs": [],
   "source": [
    "# Feature name"
   ]
  },
  {
   "cell_type": "markdown",
   "id": "5ba10805",
   "metadata": {},
   "source": [
    "## Modelling\n",
    "\n",
    "### LRSRegressor with SLearner, \"auto\" method"
   ]
  },
  {
   "cell_type": "code",
   "execution_count": null,
   "id": "a4d5563d",
   "metadata": {},
   "outputs": [],
   "source": [
    "# SLearner & Auto\n",
    "# Ready-to-use S-Learner using LinearRegression\n",
    "learner_s = LRSRegressor()\n",
    "cate_s = learner_s.estimate_ate(X=X, treatment=treatment, y=y_rev)\n",
    "print(cate_s)\n",
    "print('ATE estimate: {:.03f}'.format(cate_s[0][0]))\n",
    "print('ATE lower bound: {:.03f}'.format(cate_s[1][0]))\n",
    "print('ATE upper bound: {:.03f}'.format(cate_s[2][0]))"
   ]
  },
  {
   "cell_type": "code",
   "execution_count": null,
   "id": "3f396a26",
   "metadata": {},
   "outputs": [],
   "source": [
    "slearner_tau = learner_s.fit_predict(X, treatment, y)"
   ]
  },
  {
   "cell_type": "code",
   "execution_count": null,
   "id": "e9692d05",
   "metadata": {},
   "outputs": [],
   "source": [
    "learner_s.get_importance(X=X, \n",
    "                         tau=slearner_tau,\n",
    "                         normalize=True, \n",
    "                         method='auto',\n",
    "                         features = feature_names)"
   ]
  },
  {
   "cell_type": "code",
   "execution_count": null,
   "id": "4a0c47c0",
   "metadata": {},
   "outputs": [],
   "source": [
    "learner_s.plot_importance(X=X, \n",
    "                         tau=slearner_tau, \n",
    "                         normalize=True, \n",
    "                         method='auto', \n",
    "                         features=feature_names)"
   ]
  },
  {
   "cell_type": "markdown",
   "id": "c33c292e",
   "metadata": {},
   "source": [
    "### LRSRegressor with SLearner, \"permutation\" method"
   ]
  },
  {
   "cell_type": "code",
   "execution_count": null,
   "id": "898f2da0",
   "metadata": {},
   "outputs": [],
   "source": [
    "slearner.get_importance(X=X, \n",
    "                        tau=slearner_tau, \n",
    "                        method='permutation', \n",
    "                        features=feature_names)"
   ]
  },
  {
   "cell_type": "code",
   "execution_count": null,
   "id": "1a405f8b",
   "metadata": {},
   "outputs": [],
   "source": [
    "learner_s.plot_importance(X=X, \n",
    "                         tau=slearner_tau, \n",
    "                         normalize=True, \n",
    "                         method='permutation', \n",
    "                         features=feature_names)"
   ]
  },
  {
   "cell_type": "markdown",
   "id": "0ac2bc0a",
   "metadata": {},
   "source": [
    "### LRSRegressor with SLearner, sklearn.inspection.permutation_importance"
   ]
  },
  {
   "cell_type": "code",
   "execution_count": null,
   "id": "91b37696",
   "metadata": {},
   "outputs": [],
   "source": [
    "start_time = time.time()\n",
    "\n",
    "X_train, X_test, y_train, y_test = train_test_split(X, slearner_tau, test_size=0.3, random_state=42)\n",
    "model_tau_fit = model_tau.fit(X_train, y_train)\n",
    "\n",
    "perm_imp_test = permutation_importance(\n",
    "    estimator=model_tau_fit, \n",
    "    X=X_test, \n",
    "    y=y_test, \n",
    "    random_state=42).importances_mean\n",
    "pd.Series(perm_imp_test, feature_names).sort_values(ascending=False)\n",
    "\n",
    "print(\"Elapsed time: %s seconds\" % (time.time() - start_time))"
   ]
  },
  {
   "cell_type": "code",
   "execution_count": null,
   "id": "be51b14e",
   "metadata": {},
   "outputs": [],
   "source": [
    "pd.Series(perm_imp_test, feature_names).sort_values(ascending=False)"
   ]
  },
  {
   "cell_type": "code",
   "execution_count": null,
   "id": "23484b25",
   "metadata": {},
   "outputs": [],
   "source": [
    "pd.Series(perm_imp_test, feature_names).sort_values().plot(kind='barh', figsize=(12, 8))\n",
    "plt.title('Test Set Permutation Importances')"
   ]
  },
  {
   "cell_type": "code",
   "execution_count": null,
   "id": "3ddefbd3",
   "metadata": {},
   "outputs": [],
   "source": [
    "perm_imp_train = permutation_importance(\n",
    "    estimator=model_tau_fit, \n",
    "    X=X_train, \n",
    "    y=y_train, \n",
    "    random_state=42).importances_mean\n",
    "pd.Series(perm_imp_train, feature_names).sort_values(ascending=False)"
   ]
  },
  {
   "cell_type": "code",
   "execution_count": null,
   "id": "95c32559",
   "metadata": {},
   "outputs": [],
   "source": [
    "pd.Series(perm_imp_train, feature_names).sort_values().plot(kind='barh', figsize=(12, 8))\n",
    "plt.title('Training Set Permutation Importances')"
   ]
  },
  {
   "cell_type": "markdown",
   "id": "ca77e7a4",
   "metadata": {},
   "source": [
    "### LRSRegressor with SLearner, Shapley Values"
   ]
  },
  {
   "cell_type": "code",
   "execution_count": null,
   "id": "8decd2ba",
   "metadata": {},
   "outputs": [],
   "source": [
    "shap_slearner = slearner.get_shap_values(X=X, tau=slearner_tau)\n",
    "shap_slearner"
   ]
  },
  {
   "cell_type": "code",
   "execution_count": null,
   "id": "0e0cd196",
   "metadata": {},
   "outputs": [],
   "source": [
    "np.mean(np.abs(shap_slearner['treatment_A']),axis=0)"
   ]
  },
  {
   "cell_type": "code",
   "execution_count": null,
   "id": "9c3c8fe8",
   "metadata": {},
   "outputs": [],
   "source": [
    "# Plot shap values without specifying shap_dict\n",
    "slearner.plot_shap_values(X=X, tau=slearner_tau, features=feature_names)"
   ]
  },
  {
   "cell_type": "code",
   "execution_count": null,
   "id": "d3a5f251",
   "metadata": {},
   "outputs": [],
   "source": [
    "# Plot shap values WITH specifying shap_dict\n",
    "slearner.plot_shap_values(X=X, shap_dict=shap_slearner)"
   ]
  },
  {
   "cell_type": "code",
   "execution_count": null,
   "id": "d5c6a4a3",
   "metadata": {},
   "outputs": [],
   "source": [
    "# interaction_idx set to None (no color coding for interaction effects)\n",
    "slearner.plot_shap_dependence(treatment_group='treatment_A',\n",
    "                              feature_idx=1,\n",
    "                              X=X,\n",
    "                              tau=slearner_tau,\n",
    "                              interaction_idx=None,\n",
    "                              shap_dict=shap_slearner)"
   ]
  },
  {
   "cell_type": "code",
   "execution_count": null,
   "id": "dd067edb",
   "metadata": {},
   "outputs": [],
   "source": [
    "# interaction_idx set to 'auto' (searches for feature with greatest approximate interaction)\n",
    "# specify feature names\n",
    "slearner.plot_shap_dependence(treatment_group='treatment_A',\n",
    "                              feature_idx='tiger',\n",
    "                              X=X,\n",
    "                              tau=slearner_tau,\n",
    "                              interaction_idx='auto',\n",
    "                              shap_dict=shap_slearner,\n",
    "                              features=feature_names)"
   ]
  },
  {
   "cell_type": "code",
   "execution_count": null,
   "id": "c2f20924",
   "metadata": {},
   "outputs": [],
   "source": [
    "# interaction_idx set to specific index\n",
    "slearner.plot_shap_dependence(treatment_group='treatment_A',\n",
    "                              feature_idx=1,\n",
    "                              X=X,\n",
    "                              tau=slearner_tau,\n",
    "                              interaction_idx=10,\n",
    "                              shap_dict=shap_slearner, \n",
    "                              features=feature_names)"
   ]
  },
  {
   "cell_type": "markdown",
   "id": "bfe5d8ac",
   "metadata": {},
   "source": [
    "### LRSRegressor with TLearner, \"auto\" method"
   ]
  },
  {
   "cell_type": "code",
   "execution_count": null,
   "id": "7d38bb43",
   "metadata": {},
   "outputs": [],
   "source": [
    "learner_t = LRSRegressor()\n",
    "cate_t = learner_t.estimate_ate(X=X, treatment=treatment, y=y_rev)\n",
    "print(cate_t)\n",
    "print('ATE estimate: {:.03f}'.format(cate_t[0][0]))\n",
    "print('ATE lower bound: {:.03f}'.format(cate_t[1][0]))\n",
    "print('ATE upper bound: {:.03f}'.format(cate_t[2][0]))\n",
    "\n",
    "tlearner_tau = learner_t.fit_predict(X, treatment, y)"
   ]
  },
  {
   "cell_type": "code",
   "execution_count": null,
   "id": "7c85d392",
   "metadata": {},
   "outputs": [],
   "source": [
    "learner_t.get_importance(X=X, \n",
    "                         tau=tlearner_tau,\n",
    "                         normalize=True, \n",
    "                         method='auto',\n",
    "                         features = feature_names)"
   ]
  },
  {
   "cell_type": "code",
   "execution_count": null,
   "id": "cf910f33",
   "metadata": {},
   "outputs": [],
   "source": [
    "learner_t.plot_importance(X=X, \n",
    "                         tau=tlearner_tau, \n",
    "                         normalize=True, \n",
    "                         method='auto', \n",
    "                         features=feature_names)"
   ]
  },
  {
   "cell_type": "markdown",
   "id": "bf647779",
   "metadata": {},
   "source": [
    "### XGBTRegressor with TLearner, \"auto\" method"
   ]
  },
  {
   "cell_type": "code",
   "execution_count": null,
   "id": "e77aebbe",
   "metadata": {},
   "outputs": [],
   "source": [
    "# T Learner\n",
    "learner_t = BaseTRegressor(learner=XGBRegressor())\n",
    "ate_t = learner_t.estimate_ate(X=X, treatment=treatment, y=y_rev)\n",
    "cate_t = learner_t.fit_predict(X=X, treatment=treatment, y=y_rev)\n",
    "print('Using the ready-to-use XGBTRegressor class')\n",
    "print(ate_t)"
   ]
  },
  {
   "cell_type": "code",
   "execution_count": null,
   "id": "fdf7a51c",
   "metadata": {},
   "outputs": [],
   "source": [
    "learner_t.get_importance(X=X, \n",
    "                        tau=cate_t,\n",
    "                        normalize=True, \n",
    "                        method='auto', \n",
    "                        features=feature_names)"
   ]
  },
  {
   "cell_type": "code",
   "execution_count": null,
   "id": "6c6f4685",
   "metadata": {},
   "outputs": [],
   "source": [
    "learner_t.plot_importance(X=X, \n",
    "                         tau=cate_t, \n",
    "                         normalize=True, \n",
    "                         method='auto', \n",
    "                         features=feature_names)"
   ]
  },
  {
   "cell_type": "markdown",
   "id": "9fc662da",
   "metadata": {},
   "source": [
    "### XGBTRegressor with XLearner, without Propensity score input"
   ]
  },
  {
   "cell_type": "code",
   "execution_count": null,
   "id": "bbe19de0",
   "metadata": {},
   "outputs": [],
   "source": [
    "# X Learner without propensity score input\n",
    "learner_x_no_p = BaseXRegressor(learner=XGBRegressor())\n",
    "ate_x = learner_x_no_p.estimate_ate(X=X, treatment=treatment, y=y_rev)\n",
    "print('Using the BaseXRegressor class and using XGB without propensity score input:')\n",
    "print(ate_x)\n",
    "cate_x_no_p = learner_x_no_p.fit_predict(X=X, treatment=treatment, y=y_rev)"
   ]
  },
  {
   "cell_type": "code",
   "execution_count": null,
   "id": "f589670d",
   "metadata": {},
   "outputs": [],
   "source": [
    "learner_x_no_p.get_importance(X=X, \n",
    "                        tau=cate_x_no_p,\n",
    "                        normalize=True, \n",
    "                        method='auto', \n",
    "                        features=feature_names)"
   ]
  },
  {
   "cell_type": "code",
   "execution_count": null,
   "id": "638fc980",
   "metadata": {},
   "outputs": [],
   "source": [
    "learner_x_no_p.plot_importance(X=X, \n",
    "                         tau=cate_x_no_p, \n",
    "                         normalize=True, \n",
    "                         method='auto', \n",
    "                         features=feature_names)"
   ]
  },
  {
   "cell_type": "markdown",
   "id": "13d6acc6",
   "metadata": {},
   "source": [
    "### XGBTRegressor with RLearner without propensity score input"
   ]
  },
  {
   "cell_type": "code",
   "execution_count": null,
   "id": "48bb94ed",
   "metadata": {},
   "outputs": [],
   "source": [
    "# R Learner without propensity score input\n",
    "learner_r_no_p = BaseRRegressor(learner=XGBRegressor())\n",
    "ate_x = learner_r_no_p.estimate_ate(X=X, treatment=treatment, y=y_rev)\n",
    "print('Using the BaseXRegressor class and using XGB without propensity score input:')\n",
    "print(ate_x)\n",
    "cate_r_no_p = learner_r_no_p.fit_predict(X=X, treatment=treatment, y=y_rev)"
   ]
  },
  {
   "cell_type": "code",
   "execution_count": null,
   "id": "0e7f00fa",
   "metadata": {},
   "outputs": [],
   "source": [
    "learner_r_no_p.get_importance(X=X, \n",
    "                        tau=cate_r_no_p,\n",
    "                        normalize=True, \n",
    "                        method='auto', \n",
    "                        features=feature_names)"
   ]
  },
  {
   "cell_type": "code",
   "execution_count": null,
   "id": "d5dc190f",
   "metadata": {},
   "outputs": [],
   "source": [
    "learner_r_no_p.plot_importance(X=X, \n",
    "                         tau=cate_r_no_p, \n",
    "                         normalize=True, \n",
    "                         method='auto', \n",
    "                         features=feature_names)"
   ]
  },
  {
   "cell_type": "markdown",
   "id": "f3552858",
   "metadata": {},
   "source": [
    "### XGBTRegressor with X Learner with propensity score input"
   ]
  },
  {
   "cell_type": "code",
   "execution_count": null,
   "id": "ff755235",
   "metadata": {},
   "outputs": [],
   "source": [
    "# X Learner with propensity score input\n",
    "learner_x = BaseXRegressor(learner=XGBRegressor())\n",
    "cate_x = learner_x.fit_predict(X=X, treatment=w_multi, y=y,p=e)"
   ]
  },
  {
   "cell_type": "markdown",
   "id": "5f15aef1",
   "metadata": {},
   "source": [
    "### XGBTRegressor with R Learner with propensity score input "
   ]
  },
  {
   "cell_type": "code",
   "execution_count": null,
   "id": "87b39861",
   "metadata": {},
   "outputs": [],
   "source": [
    "# R Learner with propensity score input \n",
    "learner_r = BaseRRegressor(learner=XGBRegressor())\n",
    "cate_r = learner_r.fit_predict(X=X, treatment=w_multi, y=y,p=e)"
   ]
  },
  {
   "cell_type": "markdown",
   "id": "c02a8bad",
   "metadata": {},
   "source": [
    "### A distribution plot of different learners of XGBTRegressor"
   ]
  },
  {
   "cell_type": "code",
   "execution_count": null,
   "id": "c25e93e3",
   "metadata": {},
   "outputs": [],
   "source": [
    "alpha=0.2\n",
    "bins=30\n",
    "plt.figure(figsize=(12,8))\n",
    "plt.hist(cate_t, alpha=alpha, bins=bins, label='T Learner')\n",
    "plt.hist(cate_x, alpha=alpha, bins=bins, label='X Learner')\n",
    "plt.hist(cate_x_no_p, alpha=alpha, bins=bins, label='X Learner (no propensity score)')\n",
    "plt.hist(cate_r, alpha=alpha, bins=bins, label='R Learner')\n",
    "plt.hist(cate_r_no_p, alpha=alpha, bins=bins, label='R Learner (no propensity score)')\n",
    "# Consider having this\n",
    "plt.vlines(cate_s[0], 0, plt.axes().get_ylim()[1], label='S Learner',\n",
    "           linestyles='dotted', colors='green', linewidth=2)\n",
    "# Or this\n",
    "plt.axvline(x=-0.130 ,color=\"black\", linestyle=\"--\", label = \"S Learner\", linewidth=2)\n",
    "\n",
    "plt.title('Distribution of CATE Predictions by Meta Learner')\n",
    "plt.xlabel('Individual Treatment Effect (ITE/CATE)')\n",
    "plt.ylabel('# of Samples')\n",
    "_=plt.legend()"
   ]
  },
  {
   "cell_type": "markdown",
   "id": "9e52f7b4",
   "metadata": {},
   "source": [
    "### Uplift Tree/Forest"
   ]
  },
  {
   "cell_type": "code",
   "execution_count": null,
   "id": "8b443ff4",
   "metadata": {},
   "outputs": [],
   "source": [
    "# UpliftTreeClassifier\n",
    "from causalml.dataset import make_uplift_classification\n",
    "\n",
    "df, x_names = make_uplift_classification()"
   ]
  },
  {
   "cell_type": "code",
   "execution_count": null,
   "id": "fc70b80e",
   "metadata": {},
   "outputs": [],
   "source": [
    "uplift_tree = UpliftTreeClassifier(control_name='control')\n",
    "\n",
    "uplift_tree.fit(X=df[x_names].values,\n",
    "                treatment=df['treatment_group_key'].values,\n",
    "                y=df['conversion'].values)"
   ]
  },
  {
   "cell_type": "code",
   "execution_count": null,
   "id": "33a3a9dc",
   "metadata": {},
   "outputs": [],
   "source": [
    "pd.Series(uplift_tree.feature_importances_, index=x_names).sort_values().plot(kind='barh', figsize=(12,8))"
   ]
  },
  {
   "cell_type": "code",
   "execution_count": null,
   "id": "03cdd147",
   "metadata": {},
   "outputs": [],
   "source": [
    "# UpliftRandomForestClassifier\n",
    "uplift_rf = UpliftRandomForestClassifier(control_name='control')\n",
    "\n",
    "uplift_rf.fit(X=df[x_names].values,\n",
    "              treatment=df['treatment_group_key'].values,\n",
    "              y=df['conversion'].values)"
   ]
  },
  {
   "cell_type": "code",
   "execution_count": null,
   "id": "49ac87a0",
   "metadata": {},
   "outputs": [],
   "source": [
    "pd.Series(uplift_rf.feature_importances_, index=x_names).sort_values().plot(kind='barh', figsize=(12,8))"
   ]
  },
  {
   "cell_type": "code",
   "execution_count": null,
   "id": "dbf1a3b9",
   "metadata": {},
   "outputs": [],
   "source": []
  },
  {
   "cell_type": "code",
   "execution_count": null,
   "id": "7e32ffb1",
   "metadata": {},
   "outputs": [],
   "source": []
  },
  {
   "cell_type": "code",
   "execution_count": null,
   "id": "064a2d64",
   "metadata": {},
   "outputs": [],
   "source": []
  }
 ],
 "metadata": {
  "kernelspec": {
   "display_name": "Python 3 (ipykernel)",
   "language": "python",
   "name": "python3"
  },
  "language_info": {
   "codemirror_mode": {
    "name": "ipython",
    "version": 3
   },
   "file_extension": ".py",
   "mimetype": "text/x-python",
   "name": "python",
   "nbconvert_exporter": "python",
   "pygments_lexer": "ipython3",
   "version": "3.8.3"
  }
 },
 "nbformat": 4,
 "nbformat_minor": 5
}
